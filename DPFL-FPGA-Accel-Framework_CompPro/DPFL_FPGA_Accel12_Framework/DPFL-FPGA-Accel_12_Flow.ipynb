{
 "cells": [
  {
   "cell_type": "code",
   "execution_count": null,
   "id": "42407df2",
   "metadata": {},
   "source": [
    "# Replace {Pass} with FPGA board Password\n",
    "!echo {Pass} | sudo -S python3.8 ./DPFL_Accel_5Ectopic_main.py --epochs=50 --num_users=2 --frac=1. --local_ep=15 --local_bs=100 --virtual_batch_size=100 --optimizer='adam' --lr=0.0001 --momentum=0.9 --dataset='5Ectopic' --dr_from_np=1 --withDP=1 --max_grad_norm=0.001 --noise_multiplier=1.15 --delta=1e-4 --local_test_split=0.2 --sampling_prob=0.9  # 1.0"
   ]
  }
 ],
 "metadata": {
  "kernelspec": {
   "display_name": "Python 3 (ipykernel)",
   "language": "python",
   "name": "python3"
  },
  "language_info": {
   "codemirror_mode": {
    "name": "ipython",
    "version": 3
   },
   "file_extension": ".py",
   "mimetype": "text/x-python",
   "name": "python",
   "nbconvert_exporter": "python",
   "pygments_lexer": "ipython3",
   "version": "3.10.12"
  }
 },
 "nbformat": 4,
 "nbformat_minor": 5
}
