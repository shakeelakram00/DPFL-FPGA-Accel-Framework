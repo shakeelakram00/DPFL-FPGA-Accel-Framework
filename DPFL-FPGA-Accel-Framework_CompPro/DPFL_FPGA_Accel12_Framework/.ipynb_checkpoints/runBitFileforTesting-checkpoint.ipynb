{
 "cells": [
  {
   "cell_type": "code",
   "execution_count": 5,
   "metadata": {},
   "outputs": [
    {
     "name": "stdout",
     "output_type": "stream",
     "text": [
      "[sudo] password for xilinx: Test accuracy: 30.748840\n",
      "CPU times: user 493 ms, sys: 47.1 ms, total: 540 ms\n",
      "Wall time: 9.96 s\n"
     ]
    }
   ],
   "source": [
    "#Replace {Pass} with FPGA board password\n",
    "%time !echo {Pass} | sudo -S python3 validate.py --dataset='5ectopic' --batchsize=503 --bitfile=AI-Accel1.bit"
   ]
  },
  {
   "cell_type": "code",
   "execution_count": null,
   "metadata": {},
   "outputs": [],
   "source": [
    "from IPython.utils import io\n",
    "timings = []\n",
    "\n",
    "# Loop for multiple runs\n",
    "for i in range(1):\n",
    "    # Use %%capture to capture the output\n",
    "    with io.capture_output() as captured:  ####This command suppresses the output to be displayed. \n",
    "        %%time !echo {Pass} | sudo -S python3 validate.py --dataset='5ectopic' --batchsize=503 --bitfile=AI-Accel1.bit\n",
    "    \n",
    "    # Append the captured output to the timings list\n",
    "    timings.append(captured.stdout)\n",
    "\n",
    "# Print the stored output\n",
    "for timing in timings:\n",
    "    print(timing)\n",
    "    break"
   ]
  },
  {
   "cell_type": "code",
   "execution_count": 3,
   "metadata": {},
   "outputs": [
    {
     "name": "stdout",
     "output_type": "stream",
     "text": [
      "[sudo] password for xilinx: Results written to nw_metrics.txt\n",
      "CPU times: user 223 ms, sys: 25.7 ms, total: 249 ms\n",
      "Wall time: 4.23 s\n"
     ]
    }
   ],
   "source": [
    "!echo {Pass} | sudo -S python3 driver.py --exec_mode=throughput_test --batchsize=1 --bitfile=AI-Accel1.bit"
   ]
  },
  {
   "cell_type": "code",
   "execution_count": 2,
   "metadata": {},
   "outputs": [
    {
     "name": "stdout",
     "output_type": "stream",
     "text": [
      "{'runtime[ms]': 0.4718303680419922, 'throughput[images/s]': 2119.4057604850937, 'DRAM_in_bandwidth[MB/s]': 0.41540352905507832, 'DRAM_out_bandwidth[MB/s]': 0.0021194057604850933, 'fclk[mhz]': 99.999, 'batch_size': 1, 'fold_input[ms]': 0.06985664367675781, 'pack_input[ms]': 0.05626678466796875, 'copy_input_data_to_device[ms]': 0.9019374847412109, 'copy_output_data_from_device[ms]': 0.2486705780029297, 'unpack_output[ms]': 0.46372413635253906, 'unfold_output[ms]': 0.12326240539550781}\n"
     ]
    }
   ],
   "source": [
    "filename = './nw_metrics.txt'\n",
    "\n",
    "with open(filename, 'r') as file:\n",
    "    content = file.read()\n",
    "\n",
    "# Print the content\n",
    "print(content)"
   ]
  }
 ],
 "metadata": {
  "kernelspec": {
   "display_name": "Python 3 (ipykernel)",
   "language": "python",
   "name": "python3"
  },
  "language_info": {
   "codemirror_mode": {
    "name": "ipython",
    "version": 3
   },
   "file_extension": ".py",
   "mimetype": "text/x-python",
   "name": "python",
   "nbconvert_exporter": "python",
   "pygments_lexer": "ipython3",
   "version": "3.10.12"
  }
 },
 "nbformat": 4,
 "nbformat_minor": 2
}
