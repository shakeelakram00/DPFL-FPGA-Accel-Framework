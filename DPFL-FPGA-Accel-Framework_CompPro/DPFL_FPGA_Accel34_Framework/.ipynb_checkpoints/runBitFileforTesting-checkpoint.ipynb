{
 "cells": [
  {
   "cell_type": "code",
   "execution_count": 1,
   "metadata": {},
   "outputs": [
    {
     "name": "stdout",
     "output_type": "stream",
     "text": [
      "[sudo] password for xilinx: Test accuracy: 67.932406\n",
      "CPU times: user 1.06 s, sys: 64.2 ms, total: 1.13 s\n",
      "Wall time: 21 s\n"
     ]
    }
   ],
   "source": [
    "##Replace {Pass} with FPGA Board password\n",
    "%time !echo {Pass} | sudo -S python3 validate.py --dataset='5ectopic' --batchsize=503 --bitfile=AI-Accel4.bit"
   ]
  },
  {
   "cell_type": "code",
   "execution_count": 3,
   "metadata": {},
   "outputs": [
    {
     "name": "stdout",
     "output_type": "stream",
     "text": [
      "[sudo] password for xilinx: Test accuracy: 67.932406\r\n",
      "CPU times: user 191 ms, sys: 32.5 ms, total: 224 ms\n",
      "Wall time: 18.8 s\n",
      "\n"
     ]
    }
   ],
   "source": [
    "from IPython.utils import io\n",
    "timings = []\n",
    "\n",
    "# Loop for multiple runs\n",
    "for i in range(1):\n",
    "    # Use %%capture to capture the output\n",
    "    with io.capture_output() as captured:  ####This command suppresses the output to be displayed. \n",
    "        %time !echo {Pass} | sudo -S python3 validate.py --dataset='5ectopic' --batchsize=503 --bitfile=AI-Accel4.bit\n",
    "    \n",
    "    # Append the captured output to the timings list\n",
    "    timings.append(captured.stdout)\n",
    "\n",
    "# Print the stored output\n",
    "for timing in timings:\n",
    "    print(timing)\n",
    "    break\n",
    "\n"
   ]
  },
  {
   "cell_type": "code",
   "execution_count": 4,
   "metadata": {},
   "outputs": [
    {
     "name": "stdout",
     "output_type": "stream",
     "text": [
      "[sudo] password for xilinx: Results written to nw_metrics.txt\n"
     ]
    }
   ],
   "source": [
    "!echo {Pass} | sudo -S python3 driver.py --exec_mode=throughput_test --batchsize=1 --bitfile=AI-Accel4.bit"
   ]
  },
  {
   "cell_type": "code",
   "execution_count": null,
   "metadata": {},
   "outputs": [],
   "source": [
    "filename = './nw_metrics.txt'\n",
    "\n",
    "with open(filename, 'r') as file:\n",
    "    content = file.read()\n",
    "\n",
    "# Print the content\n",
    "print(content)"
   ]
  }
 ],
 "metadata": {
  "kernelspec": {
   "display_name": "Python 3 (ipykernel)",
   "language": "python",
   "name": "python3"
  },
  "language_info": {
   "codemirror_mode": {
    "name": "ipython",
    "version": 3
   },
   "file_extension": ".py",
   "mimetype": "text/x-python",
   "name": "python",
   "nbconvert_exporter": "python",
   "pygments_lexer": "ipython3",
   "version": "3.10.12"
  }
 },
 "nbformat": 4,
 "nbformat_minor": 2
}
