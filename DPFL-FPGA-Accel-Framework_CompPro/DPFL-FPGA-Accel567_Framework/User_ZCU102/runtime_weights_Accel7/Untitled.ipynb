{
 "cells": [
  {
   "cell_type": "code",
   "execution_count": 10,
   "metadata": {},
   "outputs": [
    {
     "data": {
      "text/plain": [
       "array([[ 6.,  1.,  0., ...,  2., -7.,  5.],\n",
       "       [ 2.,  2., -1., ..., -5., -1., -2.],\n",
       "       [ 0.,  7., -2., ...,  2.,  1.,  4.],\n",
       "       ..., \n",
       "       [ 1.,  2.,  3., ..., -5.,  3.,  5.],\n",
       "       [ 5.,  2.,  5., ...,  0.,  0.,  5.],\n",
       "       [ 1., -1., -4., ..., -7., -6.,  6.]], dtype=float32)"
      ]
     },
     "execution_count": 10,
     "metadata": {},
     "output_type": "execute_result"
    }
   ],
   "source": [
    "import numpy as np\n",
    "layer =4\n",
    "np.load(f\"{layer}_0_StreamingDataflowPartition_{layer}_MatrixVectorActivation_0.npy\")"
   ]
  },
  {
   "cell_type": "code",
   "execution_count": null,
   "metadata": {},
   "outputs": [],
   "source": []
  }
 ],
 "metadata": {
  "kernelspec": {
   "display_name": "Python 3",
   "language": "python",
   "name": "python3"
  },
  "language_info": {
   "codemirror_mode": {
    "name": "ipython",
    "version": 3
   },
   "file_extension": ".py",
   "mimetype": "text/x-python",
   "name": "python",
   "nbconvert_exporter": "python",
   "pygments_lexer": "ipython3",
   "version": "3.6.5"
  }
 },
 "nbformat": 4,
 "nbformat_minor": 2
}
